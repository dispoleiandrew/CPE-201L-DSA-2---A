{
  "nbformat": 4,
  "nbformat_minor": 0,
  "metadata": {
    "colab": {
      "provenance": [],
      "authorship_tag": "ABX9TyPHFkBoauor5talZeGl4EhE",
      "include_colab_link": true
    },
    "kernelspec": {
      "name": "python3",
      "display_name": "Python 3"
    },
    "language_info": {
      "name": "python"
    }
  },
  "cells": [
    {
      "cell_type": "markdown",
      "metadata": {
        "id": "view-in-github",
        "colab_type": "text"
      },
      "source": [
        "<a href=\"https://colab.research.google.com/github/dispoleiandrew/CPE-201L-DSA-2---A/blob/main/Skill_Test.ipynb\" target=\"_parent\"><img src=\"https://colab.research.google.com/assets/colab-badge.svg\" alt=\"Open In Colab\"/></a>"
      ]
    },
    {
      "cell_type": "code",
      "source": [
        "char_array = []\n",
        "\n",
        "def append_characters(name):\n",
        "    print(\"Append: \", end= \" \")\n",
        "    for char in name:\n",
        "        char_array.append(char)\n",
        "        print(char, end = \"  \")\n",
        "    print()\n",
        "\n",
        "def traverse_characters():\n",
        "    print(\"\\nTraversing the array: \")\n",
        "    for index in range(len(char_array)):\n",
        "        print(\"Index\", index, \":\", char_array[index])\n",
        "\n",
        "full_name = input(\"Enter your fullname: \")\n",
        "\n",
        "append_characters(full_name)\n",
        "traverse_characters()"
      ],
      "metadata": {
        "colab": {
          "base_uri": "https://localhost:8080/"
        },
        "id": "cDlle1F7-fSx",
        "outputId": "87fe70eb-d09e-455a-930c-a2c5a69ed4bc"
      },
      "execution_count": 8,
      "outputs": [
        {
          "output_type": "stream",
          "name": "stdout",
          "text": [
            "Enter your fullname: Lei Andrew Dispo\n",
            "Append:  L  e  i     A  n  d  r  e  w     D  i  s  p  o  \n",
            "\n",
            "Traversing the array: \n",
            "Index 0 : L\n",
            "Index 1 : e\n",
            "Index 2 : i\n",
            "Index 3 :  \n",
            "Index 4 : A\n",
            "Index 5 : n\n",
            "Index 6 : d\n",
            "Index 7 : r\n",
            "Index 8 : e\n",
            "Index 9 : w\n",
            "Index 10 :  \n",
            "Index 11 : D\n",
            "Index 12 : i\n",
            "Index 13 : s\n",
            "Index 14 : p\n",
            "Index 15 : o\n"
          ]
        }
      ]
    }
  ]
}
