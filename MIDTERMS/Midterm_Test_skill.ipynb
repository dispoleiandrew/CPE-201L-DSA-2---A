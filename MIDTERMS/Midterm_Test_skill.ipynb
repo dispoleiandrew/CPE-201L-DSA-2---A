{
  "nbformat": 4,
  "nbformat_minor": 0,
  "metadata": {
    "colab": {
      "provenance": [],
      "authorship_tag": "ABX9TyNV5fZnVEIQZur+V4WEzLwq",
      "include_colab_link": true
    },
    "kernelspec": {
      "name": "python3",
      "display_name": "Python 3"
    },
    "language_info": {
      "name": "python"
    }
  },
  "cells": [
    {
      "cell_type": "markdown",
      "metadata": {
        "id": "view-in-github",
        "colab_type": "text"
      },
      "source": [
        "<a href=\"https://colab.research.google.com/github/dispoleiandrew/CPE-201L-DSA-2---A/blob/main/Midterm_Test_skill.ipynb\" target=\"_parent\"><img src=\"https://colab.research.google.com/assets/colab-badge.svg\" alt=\"Open In Colab\"/></a>"
      ]
    },
    {
      "cell_type": "code",
      "execution_count": 14,
      "metadata": {
        "colab": {
          "base_uri": "https://localhost:8080/"
        },
        "id": "t__UH4bzCpp1",
        "outputId": "8ec85d3d-0d91-456f-cea2-e733cf0bf3fe"
      },
      "outputs": [
        {
          "output_type": "stream",
          "name": "stdout",
          "text": [
            "Integers: [20, 22, 26, 28, 30, 34, 38, 42, 46, 50]\n",
            "Maximum length of the Integer:  10\n",
            "Reversed Integer:  [50, 46, 42, 38, 34, 30, 28, 26, 22, 20]\n"
          ]
        }
      ],
      "source": [
        "def create_even_array():\n",
        "    return [20, 22, 26, 28, 30, 34, 38, 42, 46, 50]\n",
        "\n",
        "\n",
        "def display_array(arr):\n",
        "    print(\"Integers:\", arr)\n",
        "\n",
        "\n",
        "def get_array_length(arr):\n",
        "    return len(arr)\n",
        "\n",
        "\n",
        "def reverse_array(arr):\n",
        "    return arr[::-1]\n",
        "\n",
        "\n",
        "def main():\n",
        "\n",
        "    even_numbers = create_even_array()\n",
        "\n",
        "    # Display elements\n",
        "    display_array(even_numbers)\n",
        "\n",
        "    # Finding the maximum length\n",
        "    length = get_array_length(even_numbers)\n",
        "    print(\"Maximum length of the Integer: \", length)\n",
        "\n",
        "    # Reverse the array\n",
        "    reversed_arr = reverse_array(even_numbers)\n",
        "    print(\"Reversed Integer: \", reversed_arr)\n",
        "\n",
        "main()\n",
        "\n",
        "\n",
        ""
      ]
    }
  ]
}
