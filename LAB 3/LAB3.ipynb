{
  "nbformat": 4,
  "nbformat_minor": 0,
  "metadata": {
    "colab": {
      "provenance": [],
      "authorship_tag": "ABX9TyPo8ybpYHUPI4y5gMfSFRY9",
      "include_colab_link": true
    },
    "kernelspec": {
      "name": "python3",
      "display_name": "Python 3"
    },
    "language_info": {
      "name": "python"
    }
  },
  "cells": [
    {
      "cell_type": "markdown",
      "metadata": {
        "id": "view-in-github",
        "colab_type": "text"
      },
      "source": [
        "<a href=\"https://colab.research.google.com/github/dispoleiandrew/CPE-201L-DSA-2---A/blob/main/LAB3.ipynb\" target=\"_parent\"><img src=\"https://colab.research.google.com/assets/colab-badge.svg\" alt=\"Open In Colab\"/></a>"
      ]
    },
    {
      "cell_type": "code",
      "execution_count": 2,
      "metadata": {
        "colab": {
          "base_uri": "https://localhost:8080/"
        },
        "id": "jTbSSzTIC1sR",
        "outputId": "40ab5802-ca44-4d4d-ce0b-b4ef72f392b2"
      },
      "outputs": [
        {
          "output_type": "stream",
          "name": "stdout",
          "text": [
            "Sum of even scores: 186\n"
          ]
        }
      ],
      "source": [
        "\n",
        "scores = [26, 49, 98, 87, 62, 75]\n",
        "total = 0\n",
        "for score in scores:\n",
        "   if score % 2 == 0:\n",
        "    total += score\n",
        "print(\"Sum of even scores:\", total)\n"
      ]
    }
  ]
}
