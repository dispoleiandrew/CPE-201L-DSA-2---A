{
  "nbformat": 4,
  "nbformat_minor": 0,
  "metadata": {
    "colab": {
      "provenance": [],
      "authorship_tag": "ABX9TyPvfl3ICQcElqTz5DjS6fXG",
      "include_colab_link": true
    },
    "kernelspec": {
      "name": "python3",
      "display_name": "Python 3"
    },
    "language_info": {
      "name": "python"
    }
  },
  "cells": [
    {
      "cell_type": "markdown",
      "metadata": {
        "id": "view-in-github",
        "colab_type": "text"
      },
      "source": [
        "<a href=\"https://colab.research.google.com/github/dispoleiandrew/CPE-201L-DSA-2---A/blob/main/Array.ipynb\" target=\"_parent\"><img src=\"https://colab.research.google.com/assets/colab-badge.svg\" alt=\"Open In Colab\"/></a>"
      ]
    },
    {
      "cell_type": "code",
      "execution_count": null,
      "metadata": {
        "id": "WDi-tYvbEF6o",
        "outputId": "fcef9104-79b3-479c-9e58-7fa90a5da03b",
        "colab": {
          "base_uri": "https://localhost:8080/"
        }
      },
      "outputs": [
        {
          "output_type": "stream",
          "name": "stdout",
          "text": [
            "Original array: [10, 20, 30, 40, 50]\n",
            "\n",
            "Menu:\n",
            "1. Traverse array\n",
            "2. Reverse array\n",
            "3. insert array\n",
            "4. sort array\n",
            "5. modify array\n",
            "6. delete array\n",
            "7. Exit\n",
            "Enter your choice (1-7): 7\n",
            "\n",
            "Menu:\n",
            "1. Traverse array\n",
            "2. Reverse array\n",
            "3. insert array\n",
            "4. sort array\n",
            "5. modify array\n",
            "6. delete array\n",
            "7. Exit\n"
          ]
        }
      ],
      "source": [
        "from typing import List\n",
        "def traverse_array(arr):\n",
        "  \"\"\"\"Function to tranverse and print all elements in the array\"\"\"\n",
        "  print(\"Traversing the array: \")\n",
        "  for i, element in enumerate(arr):\n",
        "    print(f\"Index {i}: {element}\")\n",
        "def reverse(arr: List):\n",
        "  print(\"reversing all elements\")\n",
        "  for i, element in enumerate(arr):\n",
        "    print(f\"Index {i}: {element}\")\n",
        "def insert(arr: List):\n",
        "  print(\"inser all elements\")\n",
        "  index, new_element = input(\"enter the index value: \").split()\n",
        "  arr.insert(int(index), int(new_element))\n",
        "def sort(arr: List):\n",
        "  print(\"sort all elements\")\n",
        "  arr.sort()\n",
        "  for i, element in enumerate(arr):\n",
        "    print(f\"Index {i}: {element}\")\n",
        "def modify(arr: List):\n",
        "  print(\"modify all elements\")\n",
        "  target_index = input(\"enter the index (single integer): \")\n",
        "  new_value = input(\"enter new value (single integer): \")\n",
        "  arr[int(target_index)] = int(new_value)\n",
        "def delete(arr: List):\n",
        "  print(\"remove element\")\n",
        "  target_index = input(\"enter the index: \")\n",
        "  del arr[int(target_index)]\n",
        "\n",
        "\n",
        "def main():\n",
        "    # Initialize an array\n",
        "    arr = [10, 20, 30, 40, 50]\n",
        "    print(\"Original array:\", arr)\n",
        "\n",
        "\n",
        "    while True:\n",
        "        print(\"\\nMenu:\")\n",
        "        print(\"1. Traverse array\")\n",
        "        print(\"2. Reverse array\")\n",
        "        print(\"3. insert array\")\n",
        "        print(\"4. sort array\")\n",
        "        print(\"5. modify array\")\n",
        "        print(\"6. delete array\")\n",
        "        print(\"7. Exit\")\n",
        "\n",
        "        choice = input(\"Enter your choice (1-7): \")\n",
        "\n",
        "        match choice:\n",
        "            case '1':\n",
        "                traverse_array(arr)\n",
        "            case '2':\n",
        "                reverse(arr)\n",
        "            case '3':\n",
        "                insert(arr)\n",
        "            case '4':\n",
        "                sort(arr)\n",
        "            case '5':\n",
        "                modify(arr)\n",
        "            case '6':\n",
        "                delete(arr)\n",
        "\n",
        "            case '7':\n",
        "                exit()\n",
        "            case _:\n",
        "                 print(\"Invalid choice. Please enter a number between 1 and 7.\")\n",
        "\n",
        "if __name__ == \"__main__\":\n",
        "    main()"
      ]
    }
  ]
}