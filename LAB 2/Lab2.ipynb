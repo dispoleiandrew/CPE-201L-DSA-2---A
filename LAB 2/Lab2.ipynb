{
  "nbformat": 4,
  "nbformat_minor": 0,
  "metadata": {
    "colab": {
      "provenance": [],
      "authorship_tag": "ABX9TyMoUB+9ajOGXN98DhNKGAzD",
      "include_colab_link": true
    },
    "kernelspec": {
      "name": "python3",
      "display_name": "Python 3"
    },
    "language_info": {
      "name": "python"
    }
  },
  "cells": [
    {
      "cell_type": "markdown",
      "metadata": {
        "id": "view-in-github",
        "colab_type": "text"
      },
      "source": [
        "<a href=\"https://colab.research.google.com/github/dispoleiandrew/CPE-201L-DSA-2---A/blob/main/Lab2.ipynb\" target=\"_parent\"><img src=\"https://colab.research.google.com/assets/colab-badge.svg\" alt=\"Open In Colab\"/></a>"
      ]
    },
    {
      "cell_type": "code",
      "source": [
        "seq = [45, 1, 0, 33, 120, 5]\n",
        "def find_min_max(seq):\n",
        "    if len(seq) == 1:\n",
        "        return seq[0], seq[0]\n",
        "    else:\n",
        "        mid = len(seq) // 2\n",
        "        min1, max1 = find_min_max(seq[:mid])\n",
        "        min2, max2 = find_min_max(seq[mid:])\n",
        "        return min(min1, min2), max(max1, max2)\n",
        "minimum, maximum = find_min_max(seq)\n",
        "print(\"Min:\", minimum, \"Max:\", maximum)\n"
      ],
      "metadata": {
        "colab": {
          "base_uri": "https://localhost:8080/"
        },
        "id": "3S23nvHO7NZr",
        "outputId": "1c26fc22-1b9e-48c4-be47-ab1d9f5f3917"
      },
      "execution_count": 3,
      "outputs": [
        {
          "output_type": "stream",
          "name": "stdout",
          "text": [
            "Min: 0 Max: 120\n"
          ]
        }
      ]
    },
    {
      "cell_type": "code",
      "source": [],
      "metadata": {
        "id": "aVJxdQPf-epz"
      },
      "execution_count": null,
      "outputs": []
    }
  ]
}
