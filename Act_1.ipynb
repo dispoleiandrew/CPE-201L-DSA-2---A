{
  "nbformat": 4,
  "nbformat_minor": 0,
  "metadata": {
    "colab": {
      "provenance": [],
      "authorship_tag": "ABX9TyN8vSZIpURLi5tQXZIFpBca",
      "include_colab_link": true
    },
    "kernelspec": {
      "name": "python3",
      "display_name": "Python 3"
    },
    "language_info": {
      "name": "python"
    }
  },
  "cells": [
    {
      "cell_type": "markdown",
      "metadata": {
        "id": "view-in-github",
        "colab_type": "text"
      },
      "source": [
        "<a href=\"https://colab.research.google.com/github/dispoleiandrew/CPE-201L-DSA-2---A/blob/main/Act_1.ipynb\" target=\"_parent\"><img src=\"https://colab.research.google.com/assets/colab-badge.svg\" alt=\"Open In Colab\"/></a>"
      ]
    },
    {
      "cell_type": "code",
      "execution_count": null,
      "metadata": {
        "colab": {
          "base_uri": "https://localhost:8080/"
        },
        "id": "N6SdQm1M-_NQ",
        "outputId": "2eea49fd-b581-49dd-f435-66afb682c969"
      },
      "outputs": [
        {
          "output_type": "stream",
          "name": "stdout",
          "text": [
            "\n",
            "    pick a number\n",
            "    1. radius\n",
            "    2. diameter    \n"
          ]
        }
      ],
      "source": [
        "\n",
        "#create a python program that computes the area of the circle\n",
        "import math\n",
        "print(\"\"\"\n",
        "    pick a number\n",
        "    1. radius\n",
        "    2. diameter    \"\"\")\n",
        "\n",
        "rhovic = int(input(\"choose : \"))\n",
        "if rhovic == 1:\n",
        "  r = float(input(\"enter radius :\"))\n",
        "  A = math.pi*r**2\n",
        "\n",
        "elif rhovic == 2:\n",
        "  d = float(input(\"enter diameter : \"))\n",
        "  A = math.pi*(d/2)**2\n",
        "\n",
        "else:\n",
        "    print(\"exit\")\n",
        "\n",
        "print(\" Area of a circle: \",  A)"
      ]
    }
  ]
}
