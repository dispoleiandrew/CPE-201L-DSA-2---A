{
  "nbformat": 4,
  "nbformat_minor": 0,
  "metadata": {
    "colab": {
      "provenance": [],
      "authorship_tag": "ABX9TyPhLU4syLcSnqx6kHYraoMN",
      "include_colab_link": true
    },
    "kernelspec": {
      "name": "python3",
      "display_name": "Python 3"
    },
    "language_info": {
      "name": "python"
    }
  },
  "cells": [
    {
      "cell_type": "markdown",
      "metadata": {
        "id": "view-in-github",
        "colab_type": "text"
      },
      "source": [
        "<a href=\"https://colab.research.google.com/github/dispoleiandrew/CPE-201L-DSA-2---A/blob/main/Lab4.ipynb\" target=\"_parent\"><img src=\"https://colab.research.google.com/assets/colab-badge.svg\" alt=\"Open In Colab\"/></a>"
      ]
    },
    {
      "cell_type": "code",
      "execution_count": null,
      "metadata": {
        "colab": {
          "base_uri": "https://localhost:8080/"
        },
        "id": "3wllLuZEanWe",
        "outputId": "123271b4-e614-4399-964e-cda78ead6b1c"
      },
      "outputs": [
        {
          "output_type": "stream",
          "name": "stdout",
          "text": [
            "Grocery list:\n",
            "Apple - PHP 10 x 7 = PHP 70\n",
            "Banana - PHP 10 x 8 = PHP 80\n",
            "Brocolli - PHP 60 x 12 = PHP 720\n",
            "Lettuce - PHP 50 x 10 = PHP 500\n",
            "Total sum: PHP 1370\n",
            "\n",
            "After deleting Lettuce:\n",
            "Apple - PHP 10 x 7 = PHP 70\n",
            "Banana - PHP 10 x 8 = PHP 80\n",
            "Brocolli - PHP 60 x 12 = PHP 720\n",
            "Total Sum = PHP 870\n"
          ]
        }
      ],
      "source": [
        "# Problem 1: Create Fruit and Vegetable Classes\n",
        "class GroceryItem:\n",
        "    def __init__(self, name, price, quantity):\n",
        "        self.name = name\n",
        "        self.price = price\n",
        "        self.quantity = quantity\n",
        "\n",
        "    def calculate_sum(self):\n",
        "        return self.price * self.quantity\n",
        "\n",
        "    def display(self):\n",
        "        print(f\"{self.name} - PHP {self.price} x {self.quantity} = PHP {self.calculate_sum()}\")\n",
        "\n",
        "\n",
        "class Fruit(GroceryItem):\n",
        "    def __init__(self, name, price, quantity):\n",
        "        super().__init__(name, price, quantity)\n",
        "\n",
        "\n",
        "class Vegetable(GroceryItem):\n",
        "    def __init__(self, name, price, quantity):\n",
        "        super().__init__(name, price, quantity)\n",
        "\n",
        "\n",
        "# Problem 2: Create GroceryList and Display All Items\n",
        "def create_grocery_list():\n",
        "    GroceryList = [\n",
        "        Fruit(\"Apple\", 10, 7),\n",
        "        Fruit(\"Banana\", 10, 8),\n",
        "        Vegetable(\"Brocolli\", 60, 12),\n",
        "        Vegetable(\"Lettuce\", 50, 10)\n",
        "    ]\n",
        "    return GroceryList\n",
        "\n",
        "\n",
        "# Problem 3: Create Function TotalSum\n",
        "def TotalSum(grocery_list):\n",
        "    total = 0\n",
        "    for item in grocery_list:\n",
        "        total += item.calculate_sum()\n",
        "    return total\n",
        "\n",
        "\n",
        "\n",
        "# Problem 4: Delete Lettuce and Display Updated List\n",
        "\n",
        "def delete_lettuce(grocery_list):\n",
        "    updated_list = [item for item in grocery_list if item.name != \"Lettuce\"]\n",
        "    return updated_list\n",
        "\n",
        "\n",
        "\n",
        "def main():\n",
        "    # Problem 2 completion\n",
        "    GroceryList = create_grocery_list()\n",
        "\n",
        "    print(\"Grocery list:\")\n",
        "    for item in GroceryList:\n",
        "        item.display()\n",
        "    print(f\"Total sum: PHP {TotalSum(GroceryList)}\\n\")\n",
        "\n",
        "    # Problem 4 completion\n",
        "    GroceryList = delete_lettuce(GroceryList)\n",
        "\n",
        "    print(\"After deleting Lettuce:\")\n",
        "    for item in GroceryList:\n",
        "        item.display()\n",
        "    print(f\"Total Sum = PHP {TotalSum(GroceryList)}\")\n",
        "\n",
        "\n",
        "if __name__ == \"__main__\":\n",
        "    main()\n"
      ]
    }
  ]
}