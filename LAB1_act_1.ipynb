{
  "nbformat": 4,
  "nbformat_minor": 0,
  "metadata": {
    "colab": {
      "provenance": [],
      "authorship_tag": "ABX9TyOQ0P6pXJTyABSYTv4EoADT",
      "include_colab_link": true
    },
    "kernelspec": {
      "name": "python3",
      "display_name": "Python 3"
    },
    "language_info": {
      "name": "python"
    }
  },
  "cells": [
    {
      "cell_type": "markdown",
      "metadata": {
        "id": "view-in-github",
        "colab_type": "text"
      },
      "source": [
        "<a href=\"https://colab.research.google.com/github/dispoleiandrew/CPE-201L-DSA-2---A/blob/main/LAB1_act_1.ipynb\" target=\"_parent\"><img src=\"https://colab.research.google.com/assets/colab-badge.svg\" alt=\"Open In Colab\"/></a>"
      ]
    },
    {
      "cell_type": "code",
      "source": [
        "class Polygons:\n",
        "    def __init__(self, name: str, sides: int, area: float):\n",
        "        self.name = name\n",
        "        self.sides = sides\n",
        "        self.area = area\n",
        "\n",
        "\n",
        "    def set_name(self, name: str):\n",
        "        self.name = name\n",
        "\n",
        "    def set_sides(self, sides: int):\n",
        "        self.sides = sides\n",
        "\n",
        "    def set_area(self, area: float):\n",
        "        self.area = area\n",
        "\n",
        "\n",
        "    def get_name(self) -> str:\n",
        "        return self.name\n",
        "\n",
        "    def get_sides(self) -> int:\n",
        "        return self.sides\n",
        "\n",
        "    def get_area(self) -> float:\n",
        "        return self.area\n",
        "\n",
        "polygon = Polygons(\"Triangle\", 3, 25)\n",
        "\n",
        "\n",
        "print(polygon.get_name())\n",
        "print(polygon.get_sides())\n",
        "print(polygon.get_area())\n",
        "\n",
        "\n",
        "polygon.set_name(\"Square\")\n",
        "polygon.set_sides(4)\n",
        "polygon.set_area(20.0)\n",
        "\n",
        "\n",
        "print(polygon.get_name())\n",
        "print(polygon.get_sides())\n",
        "print(polygon.get_area())\n"
      ],
      "metadata": {
        "colab": {
          "base_uri": "https://localhost:8080/"
        },
        "id": "eyJsA9cFwbXz",
        "outputId": "88fae8f9-79e7-468f-a961-3390c923dcfd"
      },
      "execution_count": 2,
      "outputs": [
        {
          "output_type": "stream",
          "name": "stdout",
          "text": [
            "Triangle\n",
            "3\n",
            "25\n",
            "Square\n",
            "4\n",
            "20.0\n"
          ]
        }
      ]
    }
  ]
}