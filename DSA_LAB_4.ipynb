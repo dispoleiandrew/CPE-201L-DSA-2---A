{
  "nbformat": 4,
  "nbformat_minor": 0,
  "metadata": {
    "colab": {
      "provenance": [],
      "authorship_tag": "ABX9TyO/9CneLys0Ww5jWkDdmOUJ",
      "include_colab_link": true
    },
    "kernelspec": {
      "name": "python3",
      "display_name": "Python 3"
    },
    "language_info": {
      "name": "python"
    }
  },
  "cells": [
    {
      "cell_type": "markdown",
      "metadata": {
        "id": "view-in-github",
        "colab_type": "text"
      },
      "source": [
        "<a href=\"https://colab.research.google.com/github/dispoleiandrew/CPE-201L-DSA-2---A/blob/main/DSA_LAB_4.ipynb\" target=\"_parent\"><img src=\"https://colab.research.google.com/assets/colab-badge.svg\" alt=\"Open In Colab\"/></a>"
      ]
    },
    {
      "cell_type": "code",
      "execution_count": 3,
      "metadata": {
        "colab": {
          "base_uri": "https://localhost:8080/"
        },
        "id": "CyCr_l6GOhTf",
        "outputId": "219bb8eb-423b-491b-a590-93667048c838"
      },
      "outputs": [
        {
          "output_type": "stream",
          "name": "stdout",
          "text": [
            "the sum of array:  55\n"
          ]
        }
      ],
      "source": [
        "array = [1, 2, 3, 4, 5, 6, 7, 8, 9, 10]\n",
        "total = 0\n",
        "\n",
        "total += array [0]\n",
        "total += array [1]\n",
        "total += array [2]\n",
        "total += array [3]\n",
        "total += array [4]\n",
        "total += array [5]\n",
        "total += array [6]\n",
        "total += array [7]\n",
        "total += array [8]\n",
        "total += array [9]\n",
        "\n",
        "print (f\"the sum of array: \", total)"
      ]
    },
    {
      "cell_type": "code",
      "source": [
        "array = [1, 2, 3, 4, 5, 6, 7, 8, 9, 10]\n",
        "print (f\"original array:\", array)\n",
        "\n",
        "numbers=int(input(\"Input new number:\"))\n",
        "\n",
        "array.append(numbers)\n",
        "\n",
        "print (f\"new array:\", array)"
      ],
      "metadata": {
        "colab": {
          "base_uri": "https://localhost:8080/"
        },
        "id": "p-gk4dmHQKmx",
        "outputId": "51a0bdab-e520-4167-cb64-eaea611028c5"
      },
      "execution_count": 4,
      "outputs": [
        {
          "output_type": "stream",
          "name": "stdout",
          "text": [
            "original array: [1, 2, 3, 4, 5, 6, 7, 8, 9, 10]\n",
            "Input new number:100\n",
            "new array: [1, 2, 3, 4, 5, 6, 7, 8, 9, 10, 100]\n"
          ]
        }
      ]
    },
    {
      "cell_type": "code",
      "source": [
        "array = [1, 2, 3, 4, 5, 6, 7, 8, 9, 10]\n",
        "print(f\"Original array:\", array)\n",
        "\n",
        "numbers = int(input(\"Input new number:\"))\n",
        "\n",
        "array.insert(1, numbers)\n",
        "\n",
        "print(f\"New array:\", array)"
      ],
      "metadata": {
        "colab": {
          "base_uri": "https://localhost:8080/"
        },
        "id": "-yH1UCGDRuc8",
        "outputId": "8f0d20d0-56a8-456d-c295-65b253dc289b"
      },
      "execution_count": 5,
      "outputs": [
        {
          "output_type": "stream",
          "name": "stdout",
          "text": [
            "Original array: [1, 2, 3, 4, 5, 6, 7, 8, 9, 10]\n",
            "Input new number:22\n",
            "New array: [1, 22, 2, 3, 4, 5, 6, 7, 8, 9, 10]\n"
          ]
        }
      ]
    },
    {
      "cell_type": "code",
      "source": [
        "array = [5, 4, 3, 2, 1]\n",
        "print(f\"Original array:\", array)\n",
        "\n",
        "array.reverse()\n",
        "\n",
        "print(f\"New array:\", array)"
      ],
      "metadata": {
        "colab": {
          "base_uri": "https://localhost:8080/"
        },
        "id": "_Z1ADhy8SuCX",
        "outputId": "f96c726a-cad2-4db7-a982-b5135fa43483"
      },
      "execution_count": 6,
      "outputs": [
        {
          "output_type": "stream",
          "name": "stdout",
          "text": [
            "Original array: [5, 4, 3, 2, 1]\n",
            "New array: [1, 2, 3, 4, 5]\n"
          ]
        }
      ]
    },
    {
      "cell_type": "code",
      "source": [
        "array = [1, 2, 3, 4, 5]\n",
        "\n",
        "length = len(array)\n",
        "\n",
        "print(f\"Length of array:\", length)"
      ],
      "metadata": {
        "colab": {
          "base_uri": "https://localhost:8080/"
        },
        "id": "OPuD6SMvTAFh",
        "outputId": "9695d05a-4015-4d92-844d-c11f2eb53daf"
      },
      "execution_count": 7,
      "outputs": [
        {
          "output_type": "stream",
          "name": "stdout",
          "text": [
            "Length of array: 5\n"
          ]
        }
      ]
    }
  ]
}